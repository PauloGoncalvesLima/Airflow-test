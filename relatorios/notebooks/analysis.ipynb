{
 "cells": [
  {
   "cell_type": "markdown",
   "metadata": {},
   "source": [
    "### library"
   ]
  },
  {
   "cell_type": "code",
   "execution_count": 3,
   "metadata": {},
   "outputs": [],
   "source": [
    "import pandas as pd\n",
    "from pytz import UTC\n",
    "import json\n",
    "import matplotlib.pyplot as plt\n",
    "import geopandas as gpd\n",
    "import re\n",
    "import yaml\n",
    "from docx import Document\n",
    "from fpdf import FPDF\n",
    "from IPython.display import display"
   ]
  },
  {
   "cell_type": "markdown",
   "metadata": {},
   "source": [
    "### dataframe bp"
   ]
  },
  {
   "cell_type": "code",
   "execution_count": null,
   "metadata": {},
   "outputs": [],
   "source": [
    "def load_data(json_path):\n",
    "    with open(json_path, 'r') as file:\n",
    "        data = json.load(file)\n",
    "    return data\n",
    "\n",
    "def filter_proposals(data, states, pattern):\n",
    "    proposals = [proposal for proposal in data[\"data\"][\"component\"][\"proposals\"][\"nodes\"] \n",
    "                 if proposal[\"state\"] not in states and bool(re.match(pattern, proposal['title']['translation']))]\n",
    "    return proposals\n",
    "\n",
    "def create_dataframe(proposals):\n",
    "    df = pd.DataFrame(proposals)\n",
    "    df['publishedAt'] = pd.to_datetime(df['publishedAt'])\n",
    "    df['updatedAt'] = pd.to_datetime(df['updatedAt'])\n",
    "    df['translation'] = df['title'].apply(lambda x: x['translation'])\n",
    "    return df\n",
    "\n",
    "json_path = '/path/to/your/json/file'\n",
    "states = [\"rejected\", \"withdrawn\"]\n",
    "pattern = r'^\\d+\\.\\d+'\n",
    "\n",
    "data = load_data(json_path)\n",
    "proposals = filter_proposals(data, states, pattern)\n",
    "df = create_dataframe(proposals)"
   ]
  },
  {
   "cell_type": "markdown",
   "metadata": {},
   "source": [
    "### general data"
   ]
  },
  {
   "cell_type": "code",
   "execution_count": null,
   "metadata": {},
   "outputs": [],
   "source": [
    "def calculate_totals(data):\n",
    "    num_proposals = len(data)\n",
    "    num_votes = data['voteCount'].sum()\n",
    "    num_comments = data['totalCommentsCount'].sum()\n",
    "    return num_proposals, num_votes, num_comments\n",
    "\n",
    "general_totals = calculate_totals(df)"
   ]
  },
  {
   "cell_type": "markdown",
   "metadata": {},
   "source": [
    "### line graphs"
   ]
  },
  {
   "cell_type": "code",
   "execution_count": null,
   "metadata": {},
   "outputs": [],
   "source": [
    "df['Data'] = df['publishedAt'].dt.date\n",
    "\n",
    "n_proposals = df.groupby('Data')['id'].count()\n",
    "n_comments = df.groupby('Data')['totalCommentsCount'].sum()\n",
    "n_votes = df.groupby('Data')['voteCount'].sum()\n",
    "\n",
    "plt.figure(figsize=(12, 6))\n",
    "plt.plot(n_proposals.index, n_proposals.values, label='Propostas', color='blue', marker='o')\n",
    "plt.plot(n_comments.index, n_comments.values, label='Comentários', color='green', marker='s')\n",
    "plt.plot(n_votes.index, n_votes.values, label='Votos', color='red', marker='^')\n",
    "\n",
    "plt.xlabel('Data')\n",
    "plt.ylabel('Quantidade')\n",
    "plt.title('Quantidade de Propostas, Comentários e Votos por Dia (Geral)')\n",
    "plt.legend()\n",
    "plt.grid(True)\n",
    "plt.xticks(rotation=45)\n",
    "plt.tight_layout()\n",
    "\n",
    "plt.show()\n"
   ]
  },
  {
   "cell_type": "markdown",
   "metadata": {},
   "source": [
    "### acess data"
   ]
  },
  {
   "cell_type": "code",
   "execution_count": null,
   "metadata": {},
   "outputs": [],
   "source": [
    "def load_json_data(json_path):\n",
    "    with open(json_path, 'r') as file:\n",
    "        data = json.load(file)\n",
    "    return data\n",
    "\n",
    "def get_data_values(data, keys):\n",
    "    values = {key: data.get(key, 'Não encontrado') for key in keys}\n",
    "    return values\n",
    "\n",
    "json_path_summary = '/path/to/your/summary/json/file'\n",
    "json_path_frequency = '/path/to/your/frequency/json/file'\n",
    "\n",
    "data_summary = load_json_data(json_path_summary)\n",
    "data_frequency = load_json_data(json_path_frequency)\n",
    "\n",
    "summary_keys = ['nb_visits', 'bounce_rate']\n",
    "frequency_keys = ['nb_visits_new', 'nb_visits_returning']\n",
    "\n",
    "summary_values = get_data_values(data_summary, summary_keys)\n",
    "frequency_values = get_data_values(data_frequency, frequency_keys)"
   ]
  },
  {
   "cell_type": "markdown",
   "metadata": {},
   "source": [
    "### mapa de calor"
   ]
  },
  {
   "cell_type": "code",
   "execution_count": null,
   "metadata": {},
   "outputs": [],
   "source": [
    "def load_data(shp_path, json_path):\n",
    "    brasil = gpd.read_file(shp_path)\n",
    "    dados = pd.read_json(json_path)\n",
    "    return brasil, dados\n",
    "\n",
    "def filter_and_rename(dados, pais, coluna):\n",
    "    dados_filtrados = dados[dados['country'] == pais]\n",
    "    dados_filtrados = dados_filtrados.rename(columns={'region': coluna})\n",
    "    return dados_filtrados\n",
    "\n",
    "def create_map(brasil, dados, index_coluna, join_coluna):\n",
    "    mapa = brasil.set_index(index_coluna).join(dados.set_index(join_coluna))\n",
    "    return mapa\n",
    "\n",
    "def plot_map(mapa, coluna):\n",
    "    fig, ax = plt.subplots(figsize=(12, 8))\n",
    "    mapa.boundary.plot(ax=ax, linewidth=0.5, color='k')\n",
    "    mapa.plot(column=coluna, ax=ax, legend=True, cmap='YlOrRd')\n",
    "    plt.title(\"Visitas por Estado no Brasil\")\n",
    "    plt.axis('off')\n",
    "    plt.show()\n",
    "\n",
    "shp_path = '/path/to/your/shp/file'\n",
    "json_path = '/path/to/your/json/file'\n",
    "\n",
    "brasil, dados = load_data(shp_path, json_path)\n",
    "dados_brasil = filter_and_rename(dados, 'br', 'UF')\n",
    "mapa = create_map(brasil, dados_brasil, 'sigla', 'UF')\n",
    "plot_map(mapa, 'nb_visits')\n"
   ]
  },
  {
   "cell_type": "markdown",
   "metadata": {},
   "source": [
    "### devices"
   ]
  },
  {
   "cell_type": "code",
   "execution_count": null,
   "metadata": {},
   "outputs": [],
   "source": [
    "dados = pd.read_json('/path/to/your/json/file')\n",
    "\n",
    "dados = dados.sort_values('nb_visits', ascending=False).head(3)\n",
    "\n",
    "fig, ax = plt.subplots()\n",
    "ax.pie(dados['nb_visits'], labels=dados['label'], autopct='%1.1f%%')\n",
    "ax.axis('equal')  \n",
    "\n",
    "plt.show()\n"
   ]
  },
  {
   "cell_type": "markdown",
   "metadata": {},
   "source": [
    "### top proposals"
   ]
  },
  {
   "cell_type": "code",
   "execution_count": null,
   "metadata": {},
   "outputs": [],
   "source": [
    "df_ranking = df.sort_values(by='voteCount', ascending=False)\n",
    "\n",
    "top_proposals = df_ranking.head(20)\n",
    "\n",
    "columns = ['id', 'title', 'category', 'voteCount', 'totalCommentsCount']\n",
    "top_proposals = top_proposals[columns]"
   ]
  },
  {
   "cell_type": "markdown",
   "metadata": {},
   "source": [
    "### category"
   ]
  },
  {
   "cell_type": "code",
   "execution_count": null,
   "metadata": {},
   "outputs": [],
   "source": [
    "df['nome_tema'] = df['category'].apply(lambda x: x['name']['translation'] if x and 'name' in x and 'translation' in x['name'] else None)\n",
    "\n",
    "df = df.dropna(subset=['nome_tema'])\n",
    "\n",
    "rank_category = df.groupby('nome_tema')['id'].count().reset_index()\n",
    "rank_category.columns = ['Tema', 'Quantidade de Propostas']\n",
    "\n",
    "rank_category['Quantidade de Votos'] = df.groupby('nome_tema')['voteCount'].sum().values\n",
    "rank_category['Quantidade de Comentários'] = df.groupby('nome_tema')['totalCommentsCount'].sum().values\n",
    "\n",
    "rank_temas = rank_category.sort_values(by='Quantidade de Propostas', ascending=False)"
   ]
  },
  {
   "cell_type": "code",
   "execution_count": null,
   "metadata": {},
   "outputs": [],
   "source": [
    "outputs = %history -g -f outputs.txt\n",
    "\n",
    "with open('outputs.yaml', 'r') as f:\n",
    "    current_content = yaml.safe_load(f)\n",
    "\n",
    "current_content.append(outputs)\n",
    "\n",
    "with open('outputs.yaml', 'w') as f:\n",
    "    yaml.dump(current_content, f)\n",
    "\n",
    "doc = Document()\n",
    "doc.add_paragraph(str(current_content))\n",
    "doc.save('outputs.docx')\n",
    "\n",
    "pdf = FPDF()\n",
    "pdf.add_page()\n",
    "pdf.set_font(\"Arial\", size = 15)\n",
    "pdf.cell(200, 10, txt = str(current_content), ln = True, align = 'C')\n",
    "pdf.output(\"outputs.pdf\")"
   ]
  }
 ],
 "metadata": {
  "kernelspec": {
   "display_name": "Python 3",
   "language": "python",
   "name": "python3"
  },
  "language_info": {
   "codemirror_mode": {
    "name": "ipython",
    "version": 3
   },
   "file_extension": ".py",
   "mimetype": "text/x-python",
   "name": "python",
   "nbconvert_exporter": "python",
   "pygments_lexer": "ipython3",
   "version": "3.10.12"
  }
 },
 "nbformat": 4,
 "nbformat_minor": 2
}
